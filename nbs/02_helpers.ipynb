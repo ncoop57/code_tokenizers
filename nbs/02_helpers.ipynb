{
 "cells": [
  {
   "cell_type": "markdown",
   "metadata": {},
   "source": [
    "# helpers\n",
    "\n",
    "> This module contains all the helper functions for this library."
   ]
  },
  {
   "cell_type": "code",
   "execution_count": null,
   "metadata": {},
   "outputs": [],
   "source": [
    "#| default_exp helpers"
   ]
  },
  {
   "cell_type": "code",
   "execution_count": null,
   "metadata": {},
   "outputs": [],
   "source": [
    "#| export\n",
    "import code_tokenizers\n",
    "\n",
    "from fastcore.script import *\n",
    "from git import Git, Repo\n",
    "from pathlib import Path\n",
    "from tree_sitter import Language"
   ]
  },
  {
   "cell_type": "code",
   "execution_count": null,
   "metadata": {},
   "outputs": [],
   "source": [
    "#| hide\n",
    "from nbdev.showdoc import *"
   ]
  },
  {
   "cell_type": "code",
   "execution_count": null,
   "metadata": {},
   "outputs": [],
   "source": [
    "from datasets import load_dataset\n",
    "\n",
    "ds = load_dataset(\"bigcode/the-stack-smol\", data_dir=\"data/python\", split=\"train\")"
   ]
  },
  {
   "cell_type": "code",
   "execution_count": null,
   "metadata": {},
   "outputs": [],
   "source": [
    "from tqdm.auto import tqdm\n",
    "\n",
    "repo_files = {}\n",
    "for repo_name in tqdm(set(ds[\"repository_name\"]), desc=\"Processing repos\"):\n",
    "    rows_w_repo = ds.filter(lambda example: example[\"repository_name\"] == repo_name)\n",
    "\n",
    "    if len(rows_w_repo) > 1:\n",
    "        repo_files[repo_name] = [row[\"content\"] for row in rows_w_repo]\n",
    "        if len(repo_files) > 10:\n",
    "            break"
   ]
  },
  {
   "cell_type": "code",
   "execution_count": null,
   "metadata": {},
   "outputs": [],
   "source": [
    "repo_files.keys()"
   ]
  },
  {
   "cell_type": "code",
   "execution_count": null,
   "metadata": {},
   "outputs": [],
   "source": [
    "#| export\n",
    "def get_query(language, program_lang):\n",
    "    \"Get a query based on the language\"\n",
    "    if program_lang == \"python\":\n",
    "        return language.query(\"\"\"\n",
    "            (function_definition\n",
    "                name: (identifier) @func.name)\n",
    "\n",
    "            (class_definition\n",
    "                name: (identifier) @class.name)\n",
    "            \"\"\"\n",
    "        )"
   ]
  },
  {
   "cell_type": "code",
   "execution_count": null,
   "metadata": {},
   "outputs": [],
   "source": [
    "#| export\n",
    "def get_definitions(file_contents, tokenizer):\n",
    "    \"\"\"\n",
    "    Get all definitions from a given list of files\n",
    "    \"\"\"\n",
    "    project_content = \"\\n\\n\".join(file_contents)\n",
    "    tree = tokenizer.parser.parse(project_content.encode())\n",
    "    root_node = tree.root_node\n",
    "    query = get_query(tokenizer.language, tokenizer.program_lang)\n",
    "    captures = query.captures(root_node)\n",
    "    definitions = {node.text.decode() for node, _ in captures}\n",
    "    return definitions"
   ]
  },
  {
   "cell_type": "code",
   "execution_count": null,
   "metadata": {},
   "outputs": [],
   "source": [
    "from code_tokenizers.core import CodeTokenizer\n",
    "\n",
    "py_tokenizer = CodeTokenizer.from_pretrained(\"gpt2\", \"python\")\n",
    "\n",
    "# definitions = get_definitions(repo_files[\"articuly/alipay-sdk-python-all\"], py_tokenizer)"
   ]
  },
  {
   "cell_type": "code",
   "execution_count": null,
   "metadata": {},
   "outputs": [],
   "source": [
    "# definitions"
   ]
  },
  {
   "cell_type": "code",
   "execution_count": null,
   "metadata": {},
   "outputs": [],
   "source": [
    "\n",
    "# PY_LANGUAGE = Language('/workspace/main/scripts/build/my-languages.so', 'python')\n",
    "# QUERY = PY_LANGUAGE.query(\"\"\"\n",
    "# (function_definition\n",
    "# \tname: (identifier) @func.name)\n",
    "\n",
    "# (class_definition\n",
    "# \tname: (identifier) @class.name)\n",
    "# \"\"\"\n",
    "# )"
   ]
  },
  {
   "cell_type": "code",
   "execution_count": null,
   "metadata": {},
   "outputs": [],
   "source": [
    "# # Grab the node types from the tree-sitter language\n",
    "# language = Language(f\"{code_tokenizers.__path__[0]}/grammars/tree-sitter-languages.so\", lang)\n",
    "# node_path = f\"{code_tokenizers.__path__[0]}/grammars/tree-sitter-{lang}/src/node-types.json\"\n",
    "# with open(node_path) as f:\n",
    "#     node_types = json.load(f)\n",
    "# node_types = unroll_node_types(node_types)\n",
    "# if lang == \"python\":\n",
    "#     node_types.append(\"as_pattern_target\")\n",
    "\n",
    "# # Create a parser for the language\n",
    "# parser = Parser()\n",
    "# parser.set_language(language)"
   ]
  },
  {
   "cell_type": "code",
   "execution_count": 1,
   "metadata": {},
   "outputs": [
    {
     "ename": "ModuleNotFoundError",
     "evalue": "No module named 'nbdev'",
     "output_type": "error",
     "traceback": [
      "\u001b[0;31m---------------------------------------------------------------------------\u001b[0m",
      "\u001b[0;31mModuleNotFoundError\u001b[0m                       Traceback (most recent call last)",
      "\u001b[0;32m<ipython-input-1-6b7a2c39aab4>\u001b[0m in \u001b[0;36m<module>\u001b[0;34m\u001b[0m\n\u001b[1;32m      1\u001b[0m \u001b[0;31m#| hide\u001b[0m\u001b[0;34m\u001b[0m\u001b[0;34m\u001b[0m\u001b[0;34m\u001b[0m\u001b[0m\n\u001b[0;32m----> 2\u001b[0;31m \u001b[0;32mimport\u001b[0m \u001b[0mnbdev\u001b[0m\u001b[0;34m;\u001b[0m \u001b[0mnbdev\u001b[0m\u001b[0;34m.\u001b[0m\u001b[0mnbdev_export\u001b[0m\u001b[0;34m(\u001b[0m\u001b[0;34m)\u001b[0m\u001b[0;34m\u001b[0m\u001b[0;34m\u001b[0m\u001b[0m\n\u001b[0m",
      "\u001b[0;31mModuleNotFoundError\u001b[0m: No module named 'nbdev'"
     ]
    }
   ],
   "source": [
    "#| hide\n",
    "import nbdev; nbdev.nbdev_export()"
   ]
  }
 ],
 "metadata": {
  "kernelspec": {
   "display_name": "Python 3.8.10 64-bit",
   "language": "python",
   "name": "python3"
  },
  "language_info": {
   "codemirror_mode": {
    "name": "ipython",
    "version": 3
   },
   "file_extension": ".py",
   "mimetype": "text/x-python",
   "name": "python",
   "nbconvert_exporter": "python",
   "pygments_lexer": "ipython3",
   "version": "3.8.10"
  },
  "vscode": {
   "interpreter": {
    "hash": "e7370f93d1d0cde622a1f8e1c04877d8463912d04d973331ad4851f04de6915a"
   }
  }
 },
 "nbformat": 4,
 "nbformat_minor": 4
}
