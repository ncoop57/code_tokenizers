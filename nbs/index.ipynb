{
 "cells": [
  {
   "cell_type": "code",
   "execution_count": null,
   "metadata": {},
   "outputs": [
    {
     "name": "stderr",
     "output_type": "stream",
     "text": [
      "None of PyTorch, TensorFlow >= 2.0, or Flax have been found. Models won't be available and only tokenizers, configuration and file/data utilities can be used.\n"
     ]
    }
   ],
   "source": [
    "# | hide\n",
    "from code_tokenizers.core import *"
   ]
  },
  {
   "cell_type": "markdown",
   "metadata": {},
   "source": [
    "# code_tokenizers\n",
    "\n",
    "> Aligning BPE and AST"
   ]
  },
  {
   "cell_type": "markdown",
   "metadata": {},
   "source": [
    "This library is built on top of the awesome [transformers](https://github.com/huggingface/transformers) and [tree-sitter](https://github.com/tree-sitter/py-tree-sitter) libraries. It provides a simple interface to align the tokens produced by a BPE tokenizer with the tokens produced by a tree-sitter parser."
   ]
  },
  {
   "cell_type": "markdown",
   "metadata": {},
   "source": [
    "## Install"
   ]
  },
  {
   "cell_type": "markdown",
   "metadata": {},
   "source": [
    "```sh\n",
    "pip install code_tokenizers\n",
    "```"
   ]
  },
  {
   "cell_type": "markdown",
   "metadata": {},
   "source": [
    "## How to use"
   ]
  },
  {
   "cell_type": "markdown",
   "metadata": {},
   "source": [
    "First you need to make sure you have the tree-sitter grammars for the languages you want to use. To simplify this process, we've built a CLI tool that will download the grammars for you that comes with this library:"
   ]
  },
  {
   "cell_type": "code",
   "execution_count": null,
   "metadata": {},
   "outputs": [
    {
     "name": "stdout",
     "output_type": "stream",
     "text": [
      "usage: download_grammars [-h] [--languages LANGUAGES [LANGUAGES ...]]\n",
      "\n",
      "Download Tree-sitter grammars\n",
      "\n",
      "options:\n",
      "  -h, --help                            show this help message and exit\n",
      "  --languages LANGUAGES [LANGUAGES ...]\n",
      "                                        Languages to download (default: all)\n"
     ]
    }
   ],
   "source": [
    "!download_grammars --help"
   ]
  },
  {
   "cell_type": "markdown",
   "metadata": {},
   "source": [
    "This will download the grammars to the `grammars` directory in the directory where this library is installed. Let's continue this example with the Python grammar:"
   ]
  },
  {
   "cell_type": "code",
   "execution_count": null,
   "metadata": {},
   "outputs": [],
   "source": [
    "!download_grammars --languages python"
   ]
  },
  {
   "cell_type": "markdown",
   "metadata": {},
   "source": [
    "Now, we can create a `CodeTokenizer` object:"
   ]
  },
  {
   "cell_type": "code",
   "execution_count": null,
   "metadata": {},
   "outputs": [
    {
     "name": "stderr",
     "output_type": "stream",
     "text": [
      "/home/nathan/miniconda3/envs/code_tokenizers/lib/python3.10/site-packages/tqdm/auto.py:22: TqdmWarning: IProgress not found. Please update jupyter and ipywidgets. See https://ipywidgets.readthedocs.io/en/stable/user_install.html\n",
      "  from .autonotebook import tqdm as notebook_tqdm\n",
      "None of PyTorch, TensorFlow >= 2.0, or Flax have been found. Models won't be available and only tokenizers, configuration and file/data utilities can be used.\n"
     ]
    }
   ],
   "source": [
    "from code_tokenizers.core import CodeTokenizer\n",
    "\n",
    "py_tokenizer = CodeTokenizer.from_pretrained(\"gpt2\", \"python\")"
   ]
  },
  {
   "cell_type": "markdown",
   "metadata": {},
   "source": [
    "You can specify any pretrained BPE tokenizer from the [huggingface hub](hf.co/models) or a local directory and the language to parse the AST for.\n",
    "\n",
    "Now, we can tokenize some code:"
   ]
  },
  {
   "cell_type": "code",
   "execution_count": null,
   "metadata": {},
   "outputs": [
    {
     "name": "stdout",
     "output_type": "stream",
     "text": [
      "{'ast_ids': [...],\n",
      " 'attention_mask': [...],\n",
      " 'input_ids': [...],\n",
      " 'offset_mapping': [...],\n",
      " 'parent_ast_ids': [...]}\n"
     ]
    }
   ],
   "source": [
    "from pprint import pprint\n",
    "\n",
    "code = \"\"\"\n",
    "def foo():\n",
    "    print(\"Hello world!\")\n",
    "\"\"\"\n",
    "\n",
    "encoding = py_tokenizer(code)\n",
    "pprint(encoding, depth=1)"
   ]
  },
  {
   "cell_type": "markdown",
   "metadata": {},
   "source": [
    "And we can print out the associated AST types:\n",
    "\n",
    "::: {.callout-note}\n",
    "Note: Here the N/As are the tokens that are not part of the AST, such as the spaces and the newline characters. Their IDs are set to -1.\n",
    ":::"
   ]
  },
  {
   "cell_type": "code",
   "execution_count": null,
   "metadata": {},
   "outputs": [
    {
     "name": "stdout",
     "output_type": "stream",
     "text": [
      "N/A\n",
      "function_definition def\n",
      "function_definition identifier\n",
      "parameters (\n",
      "N/A\n",
      "N/A\n",
      "N/A\n",
      "N/A\n",
      "call identifier\n",
      "argument_list (\n",
      "argument_list string\n",
      "argument_list string\n",
      "argument_list string\n",
      "argument_list )\n",
      "N/A\n"
     ]
    }
   ],
   "source": [
    "for ast_id, parent_ast_id in zip(encoding[\"ast_ids\"], encoding[\"parent_ast_ids\"]):\n",
    "    if ast_id != -1:\n",
    "        print(py_tokenizer.node_types[parent_ast_id], py_tokenizer.node_types[ast_id])\n",
    "    else:\n",
    "        print(\"N/A\")"
   ]
  }
 ],
 "metadata": {
  "kernelspec": {
   "display_name": "Python 3.10.8 ('code_tokenizers')",
   "language": "python",
   "name": "python3"
  }
 },
 "nbformat": 4,
 "nbformat_minor": 4
}
