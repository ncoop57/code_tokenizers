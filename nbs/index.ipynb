{
 "cells": [
  {
   "cell_type": "code",
   "execution_count": 1,
   "metadata": {},
   "outputs": [
    {
     "name": "stderr",
     "output_type": "stream",
     "text": [
      "/home/nathan/miniconda3/envs/code_tokenizers/lib/python3.10/site-packages/tqdm/auto.py:22: TqdmWarning: IProgress not found. Please update jupyter and ipywidgets. See https://ipywidgets.readthedocs.io/en/stable/user_install.html\n",
      "  from .autonotebook import tqdm as notebook_tqdm\n",
      "None of PyTorch, TensorFlow >= 2.0, or Flax have been found. Models won't be available and only tokenizers, configuration and file/data utilities can be used.\n"
     ]
    }
   ],
   "source": [
    "#| hide\n",
    "from code_tokenizers.core import *"
   ]
  },
  {
   "cell_type": "markdown",
   "metadata": {},
   "source": [
    "# code_tokenizers\n",
    "\n",
    "> Aligning BPE and AST"
   ]
  },
  {
   "cell_type": "markdown",
   "metadata": {},
   "source": [
    "This library is built on top of the awesome [tokenizers](https://github.com/huggingface/tokenizers) and [tree-sitter](https://github.com/tree-sitter/py-tree-sitter) libraries. It provides a simple interface to align the tokens produced by a BPE tokenizer with the tokens produced by a tree-sitter parser."
   ]
  },
  {
   "cell_type": "markdown",
   "metadata": {},
   "source": [
    "## Install"
   ]
  },
  {
   "cell_type": "markdown",
   "metadata": {},
   "source": [
    "```sh\n",
    "pip install code_tokenizers\n",
    "```"
   ]
  },
  {
   "cell_type": "markdown",
   "metadata": {},
   "source": [
    "## How to use"
   ]
  },
  {
   "cell_type": "markdown",
   "metadata": {},
   "source": [
    "First you need to make sure you have the tree-sitter grammars for the languages you want to use. To simplify this process, we've built a CLI tool that will download the grammars for you that comes with this library:\n",
    "\n",
    "```sh\n",
    "download_grammars --help\n",
    "```\n",
    "\n",
    "This will download the grammars to the `grammars` directory in the directory where this library is installed. Let's continue this example with the Python grammar:\n",
    "\n",
    "```sh\n",
    "download_grammars python\n",
    "```\n",
    "\n",
    "Now, we can create a `CodeTokenizer` object:\n"
   ]
  },
  {
   "cell_type": "code",
   "execution_count": 2,
   "metadata": {},
   "outputs": [],
   "source": [
    "from code_tokenizers.core import CodeTokenizer\n",
    "\n",
    "py_tokenizer = CodeTokenizer.from_pretrained(\"gpt2\", \"python\")"
   ]
  },
  {
   "cell_type": "markdown",
   "metadata": {},
   "source": [
    "You can specify any pretrained BPE tokenizer from the [huggingface hub](hf.co/models) or a local directory and the language to parse the AST for.\n",
    "\n",
    "Now, we can tokenize some code:"
   ]
  },
  {
   "cell_type": "code",
   "execution_count": 3,
   "metadata": {},
   "outputs": [
    {
     "name": "stdout",
     "output_type": "stream",
     "text": [
      "{'ast_ids': [...],\n",
      " 'attention_mask': [...],\n",
      " 'input_ids': [...],\n",
      " 'offset_mapping': [...],\n",
      " 'parent_ast_ids': [...]}\n"
     ]
    }
   ],
   "source": [
    "from pprint import pprint\n",
    "\n",
    "code = \"\"\"\n",
    "def foo():\n",
    "    print(\"Hello world!\")\n",
    "\"\"\"\n",
    "\n",
    "pprint(py_tokenizer(code), depth=1)"
   ]
  }
 ],
 "metadata": {
  "kernelspec": {
   "display_name": "Python 3.10.8 ('code_tokenizers')",
   "language": "python",
   "name": "python3"
  },
  "language_info": {
   "codemirror_mode": {
    "name": "ipython",
    "version": 3
   },
   "file_extension": ".py",
   "mimetype": "text/x-python",
   "name": "python",
   "nbconvert_exporter": "python",
   "pygments_lexer": "ipython3",
   "version": "3.10.8"
  },
  "vscode": {
   "interpreter": {
    "hash": "c2f6c5eb1347ba98f68c056318afecdf56741dca3e8b343f14613cfaf8f98e14"
   }
  }
 },
 "nbformat": 4,
 "nbformat_minor": 4
}
