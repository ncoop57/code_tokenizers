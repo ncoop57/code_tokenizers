{
 "cells": [
  {
   "cell_type": "markdown",
   "metadata": {},
   "source": [
    "# cli\n",
    "\n",
    "> Fill in a module description here"
   ]
  },
  {
   "cell_type": "code",
   "execution_count": null,
   "metadata": {},
   "outputs": [],
   "source": [
    "#| default_exp cli"
   ]
  },
  {
   "cell_type": "code",
   "execution_count": null,
   "metadata": {},
   "outputs": [],
   "source": [
    "#| export\n",
    "import code_tokenizers\n",
    "\n",
    "from fastcore.script import *\n",
    "from git import Git, Repo\n",
    "from pathlib import Path\n",
    "from tree_sitter import Language"
   ]
  },
  {
   "cell_type": "code",
   "execution_count": null,
   "metadata": {},
   "outputs": [],
   "source": [
    "#| hide\n",
    "from nbdev.showdoc import *"
   ]
  },
  {
   "cell_type": "code",
   "execution_count": null,
   "metadata": {},
   "outputs": [],
   "source": [
    "#| export\n",
    "_GRAMMARs = {\n",
    "    \"python\": (\n",
    "        \"https://github.com/tree-sitter/tree-sitter-python.git\",\n",
    "        \"tree-sitter-python\",\n",
    "        \"v0.20.0\"\n",
    "    ),\n",
    "}"
   ]
  },
  {
   "cell_type": "code",
   "execution_count": null,
   "metadata": {},
   "outputs": [],
   "source": [
    "#| export\n",
    "def _download_grammars(languages):\n",
    "    try:\n",
    "        grammars = _GRAMMARs if languages == \"all\" else {k: _GRAMMARs[k] for k in languages}\n",
    "    except KeyError as e:\n",
    "        raise ValueError(f\"Invalid or unsupported language: {e}. Supported languages: {list(_GRAMMARs.keys())}\")\n",
    "\n",
    "    langs = []\n",
    "    grammar_dir = Path(code_tokenizers.__file__).parent / \"grammars\"\n",
    "    grammar_dir.mkdir(exist_ok=True)\n",
    "    for lang, (url, dir, tag) in grammars.items():\n",
    "        repo_dir = grammar_dir / dir\n",
    "        if not repo_dir.exists():\n",
    "            repo = Repo.clone_from(url, repo_dir)\n",
    "            repo.git.checkout(tag)\n",
    "        langs.append(str(repo_dir))\n",
    "    \n",
    "    Language.build_library(\n",
    "        # Store the library in the directory\n",
    "        str(grammar_dir / \"tree-sitter-languages.so\"),\n",
    "        # Include one or more languages\n",
    "        langs\n",
    "    )"
   ]
  },
  {
   "cell_type": "code",
   "execution_count": null,
   "metadata": {},
   "outputs": [],
   "source": [
    "#| export\n",
    "@call_parse\n",
    "def download_grammars(\n",
    "    languages: Param(\"Languages to download\", str, nargs=\"+\") = \"all\",\n",
    "):\n",
    "    \"\"\"Download Tree-sitter grammars\"\"\"\n",
    "    _download_grammars(languages)"
   ]
  },
  {
   "cell_type": "code",
   "execution_count": null,
   "metadata": {},
   "outputs": [],
   "source": [
    "#| hide\n",
    "import nbdev; nbdev.nbdev_export()"
   ]
  }
 ],
 "metadata": {
  "kernelspec": {
   "display_name": "Python 3.10.8 ('code_tokenizers')",
   "language": "python",
   "name": "python3"
  }
 },
 "nbformat": 4,
 "nbformat_minor": 4
}
